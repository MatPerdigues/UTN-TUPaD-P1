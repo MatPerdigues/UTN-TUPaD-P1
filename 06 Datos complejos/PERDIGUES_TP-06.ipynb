{
 "cells": [
  {
   "cell_type": "markdown",
   "id": "7220ba7e",
   "metadata": {},
   "source": [
    "1) Dado el diccionario precios_frutas\n",
    "precios_frutas = {'Banana': 1200, 'Ananá': 2500, 'Melón': 3000, 'Uva':\n",
    "1450}\n",
    "Añadir las siguientes frutas con sus respectivos precios:\n",
    "● Naranja = 1200\n",
    "● Manzana = 1500\n",
    "● Pera = 2300\n",
    "\n",
    "\n",
    "2) Siguiendo con el diccionario precios_frutas que resulta luego de ejecutar el código\n",
    "desarrollado en el punto anterior, actualizar los precios de las siguientes frutas:\n",
    "● Banana = 1330\n",
    "● Manzana = 1700\n",
    "● Melón = 2800\n",
    "\n",
    "3) Siguiendo con el diccionario precios_frutas que resulta luego de ejecutar el código\n",
    "desarrollado en el punto anterior, crear una lista que contenga únicamente las frutas sin los\n",
    "precios."
   ]
  },
  {
   "cell_type": "code",
   "execution_count": null,
   "id": "0562a414",
   "metadata": {},
   "outputs": [],
   "source": [
    "precios_frutas = {'Banana': 1200, 'Ananá': 2500, 'Melón': 3000, 'Uva':\n",
    "1450}\n",
    "\n",
    "precios_frutas[\"Naranja\"]=1200\n",
    "precios_frutas[\"Manzana\"]=1500\n",
    "precios_frutas[\"Pera\"]=2300\n",
    "\n",
    "precios_frutas[\"Banana\"]=1330\n",
    "precios_frutas[\"Manzana\"]=1700\n",
    "precios_frutas[\"Melón\"]=2800\n",
    "\n",
    "lista_frutas=precios_frutas.keys()\n",
    "\n",
    "print(precios_frutas)\n",
    "print(lista_frutas)\n"
   ]
  },
  {
   "cell_type": "markdown",
   "id": "becd7b73",
   "metadata": {},
   "source": [
    "4) Escribí un programa que permita almacenar y consultar números telefónicos.\n",
    "• Permití al usuario cargar 5 contactos con su nombre como clave y número como valor.\n",
    "• Luego, pedí un nombre y mostrale el número asociado, si existe."
   ]
  },
  {
   "cell_type": "code",
   "execution_count": null,
   "id": "25494c97",
   "metadata": {},
   "outputs": [],
   "source": [
    "agenda={}\n",
    "\n",
    "def agregar(clave,valor):\n",
    "    agenda[clave]=valor\n",
    "    print(agenda)\n",
    "    opc=input(\"Selecioná [1] para ingresar un nuevo contacto, [2] para consultar contacto y [3] para salir\")\n",
    "    if opc==\"1\":\n",
    "        agregar(input(\"Ingrese el nombre del contacto: \"),input(\"Ingrese el número del contacto: \"))\n",
    "    elif opc==\"2\":\n",
    "        consultar(input(\"Ingrese el nombre del contacto: \"))\n",
    "\n",
    "def consultar(nombre):\n",
    "    if nombre not in agenda:\n",
    "        print(\"El contacto no existe\")\n",
    "    else:\n",
    "        print(agenda[nombre])      \n",
    "\n",
    "print(\"Seleccione la opción deseada: \")\n",
    "print(\"[1] para agregar contactos a la agenda\")\n",
    "print(\"[2] para consultar contacto\")\n",
    "opc=input()\n",
    "if opc==\"1\":\n",
    "    agregar(input(\"Ingrese el nombre del contacto: \"),input(\"Ingrese el número del contacto: \"))\n",
    "elif opc==\"2\":\n",
    "    consultar(input(\"Ingrese el nombre del contacto: \"))\n",
    "\n"
   ]
  },
  {
   "cell_type": "markdown",
   "id": "2cb956d9",
   "metadata": {},
   "source": [
    "5) Solicita al usuario una frase e imprime:\n",
    "• Las palabras únicas (usando un set).\n",
    "• Un diccionario con la cantidad de veces que aparece cada palabra."
   ]
  },
  {
   "cell_type": "code",
   "execution_count": null,
   "id": "f2cfd932",
   "metadata": {},
   "outputs": [],
   "source": [
    "frase=input(\"Ingrese una frase: \")\n",
    "palabras=frase.lower().split()\n",
    "for i in palabras:\n",
    "    print(f\"{i} frecuencia: {palabras.count(i)}\")\n",
    "set_frase=set(palabras)\n",
    "print(f\"Palabras únicas: {set_frase}\")\n"
   ]
  },
  {
   "cell_type": "markdown",
   "id": "d431d313",
   "metadata": {},
   "source": [
    "6) Permití ingresar los nombres de 3 alumnos, y para cada uno una tupla de 3 notas.\n",
    "Luego, mostrá el promedio de cada alumno.\n",
    "Ejemplo:"
   ]
  },
  {
   "cell_type": "code",
   "execution_count": null,
   "id": "7fde41e3",
   "metadata": {},
   "outputs": [],
   "source": [
    "alumnos={}\n",
    "promedioNotas={}\n",
    "\n",
    "def promedios(nombre,notas):\n",
    "\n",
    "    acum=0\n",
    "    alumnos[nombre]=notas\n",
    "    for i in notas:\n",
    "        acum+=i\n",
    "    promedioNotas[nombre]=acum/3\n",
    "\n",
    "\n",
    "for x in range(0,3):\n",
    "    notasAlumno=[]\n",
    "    nom=input(\"Ingrese el nombre del alumno: \")\n",
    "    for i in range (0,3):\n",
    "        nota=int(input(\"Ingrese nota la nota que desea registrar para el alumno: \"))\n",
    "        notasAlumno.append(nota)\n",
    "    notasAlumnoFinal=tuple(notasAlumno)\n",
    "    promedios(nom,notasAlumnoFinal)\n",
    "\n",
    "\n",
    "print(\"****Notas Registradas****\")\n",
    "print(alumnos)\n",
    "print(\"****Promedios****\")\n",
    "print(promedioNotas)\n",
    "\n",
    "\n",
    "\n",
    "\n",
    "        "
   ]
  },
  {
   "cell_type": "markdown",
   "id": "c4173c77",
   "metadata": {},
   "source": [
    "7) Dado dos sets de números, representando dos listas de estudiantes que aprobaron Parcial 1\n",
    "y Parcial 2:\n",
    "• Mostrá los que aprobaron ambos parciales.\n",
    "• Mostrá los que aprobaron solo uno de los dos.\n",
    "• Mostrá la lista total de estudiantes que aprobaron al menos un parcial (sin repetir)"
   ]
  },
  {
   "cell_type": "code",
   "execution_count": null,
   "id": "192712d6",
   "metadata": {},
   "outputs": [],
   "source": [
    "lista1={1,2,3,4,5,6,7,8}\n",
    "lista2={5,6,7,8,9,10,11}\n",
    "\n",
    "\n",
    "def comparacion():    \n",
    "    interseccion=(lista1.intersection(lista2))\n",
    "    diferencia_sim=lista1.symmetric_difference(lista2)\n",
    "    union=lista1.union(lista2)\n",
    "    print(f\"Estudiantes que aprobaron ambos parciales {interseccion}\")\n",
    "    print(f\"Estudiantes que aprobaron solo uno de los parciales {diferencia_sim}\")\n",
    "    print(f\"Estudiantes que aprobaron al menos uno de los parciales {union}\")\n",
    "\n",
    "comparacion()\n"
   ]
  },
  {
   "cell_type": "markdown",
   "id": "b98d62e0",
   "metadata": {},
   "source": [
    "8) Armá un diccionario donde las claves sean nombres de productos y los valores su stock.\n",
    "Permití al usuario:\n",
    "• Consultar el stock de un producto ingresado.\n",
    "• Agregar unidades al stock si el producto ya existe.\n",
    "• Agregar un nuevo producto si no existe.\n"
   ]
  },
  {
   "cell_type": "code",
   "execution_count": null,
   "id": "bdf4b2df",
   "metadata": {},
   "outputs": [],
   "source": [
    "listaProductos={\n",
    "    \"banana\":25,\n",
    "    \"manzana\":15,\n",
    "    \"pera\":15,\n",
    "    \"anana\":3,\n",
    "    \"uva\":5\n",
    "}\n",
    "\n",
    "producto=input(\"Ingrese el producto que está buscando: \")\n",
    "\n",
    "if producto in listaProductos:\n",
    "    opc=(input(f\"El stock actual es {listaProductos[producto]}. Ingrese [1] para actualizarlo\"))\n",
    "    if opc==\"1\":\n",
    "        nuevoStock=int(input(\"Ingrese el nuevo stock: \"))\n",
    "        listaProductos[producto]=nuevoStock\n",
    "        print(listaProductos)\n",
    "else:\n",
    "    listaProductos[producto]=0\n",
    "    stock=input((\"Nuevo producto agregado!. Ingrese el stock para este nuevo producto: \"))       \n",
    "    listaProductos[producto]=stock\n",
    "    print(listaProductos)\n",
    "\n"
   ]
  },
  {
   "cell_type": "markdown",
   "id": "a3388957",
   "metadata": {},
   "source": [
    "9) Creá una agenda donde las claves sean tuplas de (día, hora) y los valores sean eventos.\n",
    "Permití consultar qué actividad hay en cierto día y hora."
   ]
  },
  {
   "cell_type": "code",
   "execution_count": null,
   "id": "b77e5ba4",
   "metadata": {},
   "outputs": [],
   "source": [
    "agenda={\n",
    "    (\"lunes\",\"10.00\"):\"Reunión\",\n",
    "    (\"martes\",\"15.00\"):\"Clase de inglés\",\n",
    "    (\"miercoles\",\"12.00\"):\"Gym\",\n",
    "    (\"jueves\",\"21.00\"):\"Cumple de caro\" \n",
    "}\n",
    "\n",
    "print(\"Ingresá el dia y el horario que querés chequear\")\n",
    "dia=input(\"dia: \")\n",
    "hora=input(\"hora: \")\n",
    "\n",
    "diaHora=(dia,hora)\n",
    "\n",
    "if diaHora in agenda:\n",
    "    print(agenda[diaHora])\n",
    "else:\n",
    "    print(\"No hay registros para la fecha y hora seleccionados\")"
   ]
  },
  {
   "cell_type": "code",
   "execution_count": null,
   "id": "dcffe270",
   "metadata": {},
   "outputs": [],
   "source": [
    "paises = {\n",
    "    \"Argentina\": \"Buenos Aires\",\n",
    "    \"Francia\": \"París\",\n",
    "    \"Italia\": \"Roma\",\n",
    "    \"España\": \"Madrid\",\n",
    "    \"Brasil\": \"Brasilia\"\n",
    "}\n",
    "\n",
    "\n",
    "capitales = {}\n",
    "\n",
    "for pais, capital in paises.items():\n",
    "    capitales[capital] = pais\n",
    "\n",
    "print(capitales)"
   ]
  }
 ],
 "metadata": {
  "kernelspec": {
   "display_name": "Python 3",
   "language": "python",
   "name": "python3"
  },
  "language_info": {
   "codemirror_mode": {
    "name": "ipython",
    "version": 3
   },
   "file_extension": ".py",
   "mimetype": "text/x-python",
   "name": "python",
   "nbconvert_exporter": "python",
   "pygments_lexer": "ipython3",
   "version": "3.12.10"
  }
 },
 "nbformat": 4,
 "nbformat_minor": 5
}
