{
 "cells": [
  {
   "cell_type": "markdown",
   "metadata": {},
   "source": [
    "1) Crea un programa que imprima en pantalla todos los números enteros desde 0 hasta 100\n",
    "(incluyendo ambos extremos), en orden creciente, mostrando un número por línea."
   ]
  },
  {
   "cell_type": "code",
   "execution_count": null,
   "metadata": {},
   "outputs": [],
   "source": [
    "for i in range (101):\n",
    "    print(i)"
   ]
  },
  {
   "cell_type": "markdown",
   "metadata": {},
   "source": [
    "2) Desarrolla un programa que solicite al usuario un número entero y determine la cantidad de\n",
    "dígitos que contiene."
   ]
  },
  {
   "cell_type": "code",
   "execution_count": null,
   "metadata": {},
   "outputs": [],
   "source": [
    "num = input(\"Ingrese un número entero: \")\n",
    "cont = 0\n",
    "if(int(num)<0):\n",
    "    print(\"El número ingresado no es válido\")\n",
    "else:\n",
    "    for i in num:\n",
    "        cont += 1\n",
    "print(cont)"
   ]
  },
  {
   "cell_type": "markdown",
   "metadata": {},
   "source": [
    "3) Escribe un programa que sume todos los números enteros comprendidos entre dos valores\n",
    "dados por el usuario, excluyendo esos dos valores."
   ]
  },
  {
   "cell_type": "code",
   "execution_count": null,
   "metadata": {},
   "outputs": [],
   "source": [
    "num1 = int(input(\"Ingrese el primer número entero: \"))\n",
    "num2 = int(input(\"Ingrese el segundo número entero: \"))\n",
    "numero1 = num1\n",
    "numero2 = num2\n",
    "acum = 0\n",
    "if(num1>num2):\n",
    "    numero1=num2\n",
    "    numero2=num1\n",
    "for i in range(numero1+1,numero2,1):\n",
    "    acum+=i\n",
    "print(acum)\n"
   ]
  },
  {
   "cell_type": "markdown",
   "metadata": {},
   "source": [
    "4) Elabora un programa que permita al usuario ingresar números enteros y los sume en\n",
    "secuencia. El programa debe detenerse y mostrar el total acumulado cuando el usuario ingrese\n",
    "un 0."
   ]
  },
  {
   "cell_type": "code",
   "execution_count": null,
   "metadata": {},
   "outputs": [],
   "source": [
    "num = int(input(\"Ingrese un numero entero para sumar: \"))\n",
    "acum = 0\n",
    "while num != 0:\n",
    "    acum += num\n",
    "    num = int(input(\"Ingrese otro numero entero para sumar: \"))\n",
    "print(f\"El total es {acum}\")"
   ]
  },
  {
   "cell_type": "markdown",
   "metadata": {},
   "source": [
    "5) Crea un juego en el que el usuario deba adivinar un número aleatorio entre 0 y 9. Al final, el\n",
    "programa debe mostrar cuántos intentos fueron necesarios para acertar el número."
   ]
  },
  {
   "cell_type": "code",
   "execution_count": null,
   "metadata": {},
   "outputs": [],
   "source": [
    "import random\n",
    "cont = 1\n",
    "numAl = random.randint(0,9)\n",
    "num = int(input(\"Ingrese un numero para iniciar el juego: \"))\n",
    "while num != numAl:\n",
    "    cont += 1\n",
    "    num = int(input(\"Ingrese otro número para continuar el juego: \"))\n",
    "\n",
    "print(f\"Acertaste!! Fueron necesarios {cont} intentos.\")"
   ]
  },
  {
   "cell_type": "markdown",
   "metadata": {},
   "source": [
    "6) Desarrolla un programa que imprima en pantalla todos los números pares comprendidos\n",
    "entre 0 y 100, en orden decreciente."
   ]
  },
  {
   "cell_type": "code",
   "execution_count": null,
   "metadata": {},
   "outputs": [],
   "source": [
    "for i in range(100,0-1,-2):\n",
    "    print(i)"
   ]
  },
  {
   "cell_type": "markdown",
   "metadata": {},
   "source": [
    "7) Crea un programa que calcule la suma de todos los números comprendidos entre 0 y un\n",
    "número entero positivo indicado por el usuario."
   ]
  },
  {
   "cell_type": "code",
   "execution_count": null,
   "metadata": {},
   "outputs": [],
   "source": [
    "num = int(input(\"Ingrese un numero entero: \"))\n",
    "acum = 0\n",
    "for i in range(0,num):\n",
    "    acum += i\n",
    "print(f\"La suma de los números comprendidos entre 0 y {num} (sin incluirlo) es: {acum}\")"
   ]
  },
  {
   "cell_type": "markdown",
   "metadata": {},
   "source": [
    "8) Escribe un programa que permita al usuario ingresar 100 números enteros. Luego, el\n",
    "programa debe indicar cuántos de estos números son pares, cuántos son impares, cuántos son\n",
    "negativos y cuántos son positivos. (Nota: para probar el programa puedes usar una cantidad\n",
    "menor, pero debe estar preparado para procesar 100 números con un solo cambio)."
   ]
  },
  {
   "cell_type": "code",
   "execution_count": null,
   "metadata": {},
   "outputs": [],
   "source": [
    "cont = 1\n",
    "par = 0\n",
    "impar = 0\n",
    "neg = 0\n",
    "pos = 0\n",
    "while cont<=100:\n",
    "    num = int(input(\"Ingrese un número entero\"))\n",
    "    if num%2==0:\n",
    "        par+=1\n",
    "    else:\n",
    "        impar+=1\n",
    "    if num>=0:\n",
    "        pos+=1\n",
    "    else:\n",
    "        neg+=1\n",
    "    cont+=1\n",
    "print(f\"Números pares: {par}\")\n",
    "print(f\"Números impares: {impar}\")\n",
    "print(f\"Números positivos: {pos}\")\n",
    "print(f\"Números negativos: {neg}\")"
   ]
  },
  {
   "cell_type": "markdown",
   "metadata": {},
   "source": [
    "9) Elabora un programa que permita al usuario ingresar 100 números enteros y luego calcule la\n",
    "media de esos valores. (Nota: puedes probar el programa con una cantidad menor, pero debe\n",
    "poder procesar 100 números cambiando solo un valor)."
   ]
  },
  {
   "cell_type": "code",
   "execution_count": null,
   "metadata": {},
   "outputs": [],
   "source": [
    "# num = int(input(\"Ingrese 100 numeros para conocer su promedio. Ingrese el primer número: \"))\n",
    "cont = 0\n",
    "sum = 0\n",
    "print(\"Ingrese 100 números para conocer su promedio.\")\n",
    "while cont<100:\n",
    "    num = int(input(\"Ingrese un número: \"))\n",
    "    cont+=1\n",
    "    sum+=num\n",
    "    print(sum)\n",
    "    print(cont)\n",
    "print(f\"La media de los numeros ingresados es: {sum/cont}\")"
   ]
  },
  {
   "cell_type": "markdown",
   "metadata": {},
   "source": [
    "10) Escribe un programa que invierta el orden de los dígitos de un número ingresado por el\n",
    "usuario. Ejemplo: si el usuario ingresa 547, el programa debe mostrar 745."
   ]
  },
  {
   "cell_type": "code",
   "execution_count": null,
   "metadata": {},
   "outputs": [],
   "source": [
    "num = input(\"Ingrese un numero: \")\n",
    "x = 0\n",
    "for i in num:\n",
    "    x-=1\n",
    "    print(num[x],end=\"\")"
   ]
  }
 ],
 "metadata": {
  "kernelspec": {
   "display_name": "Python 3",
   "language": "python",
   "name": "python3"
  },
  "language_info": {
   "codemirror_mode": {
    "name": "ipython",
    "version": 3
   },
   "file_extension": ".py",
   "mimetype": "text/x-python",
   "name": "python",
   "nbconvert_exporter": "python",
   "pygments_lexer": "ipython3",
   "version": "3.12.10"
  }
 },
 "nbformat": 4,
 "nbformat_minor": 2
}
