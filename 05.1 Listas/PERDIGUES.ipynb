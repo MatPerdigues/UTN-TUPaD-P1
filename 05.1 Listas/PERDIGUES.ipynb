{
 "cells": [
  {
   "cell_type": "markdown",
   "id": "4547d11c",
   "metadata": {},
   "source": [
    "1) Crear una lista con los números del 1 al 100 que sean múltiplos de 4. Utilizar la función range."
   ]
  },
  {
   "cell_type": "code",
   "execution_count": null,
   "id": "c9bf0c48",
   "metadata": {},
   "outputs": [],
   "source": [
    "lista = list(range(0,101,4))\n",
    "print(lista)"
   ]
  },
  {
   "cell_type": "markdown",
   "id": "b114a16d",
   "metadata": {},
   "source": [
    "2) Crear una lista con cinco elementos (colocar los elementos que más te gusten) y mostrar el penúltimo. ¡Puedes hacerlo como se muestra en los videos o bien investigar cómo funciona el indexing con números negativos!"
   ]
  },
  {
   "cell_type": "code",
   "execution_count": null,
   "id": "59265e78",
   "metadata": {},
   "outputs": [],
   "source": [
    "lista = [\"manzanas\",\"bananas\",\"peras\",\"naranjas\",\"uvas\"]\n",
    "print(lista[-2])"
   ]
  },
  {
   "cell_type": "markdown",
   "id": "44d9300a",
   "metadata": {},
   "source": [
    "3) Crear una lista vacía, agregar tres palabras con append e imprimir la lista resultante por pantalla."
   ]
  },
  {
   "cell_type": "code",
   "execution_count": null,
   "id": "9df72f38",
   "metadata": {},
   "outputs": [],
   "source": [
    "lista = []\n",
    "lista.append(\"manzanas\")\n",
    "lista.append(\"bananas\")\n",
    "lista.append(\"peras\")\n",
    "print(lista)"
   ]
  },
  {
   "cell_type": "markdown",
   "id": "4be80c4c",
   "metadata": {},
   "source": [
    "4) Reemplazar el segundo y último valor de la lista “animales” con las palabras “loro” y “oso”, respectivamente. Imprimir la lista resultante por pantalla. ¡Puedes hacerlo como se muestra en los videos o bien investigar cómo funciona el indexing con números negativos! animales = [\"perro\", \"gato\", \"conejo\", \"pez\"]"
   ]
  },
  {
   "cell_type": "code",
   "execution_count": null,
   "id": "730c71f7",
   "metadata": {},
   "outputs": [],
   "source": [
    "animales = [\"perro\", \"gato\", \"conejo\", \"pez\"]\n",
    "animales[1]=\"loro\"\n",
    "animales[-1]=\"oso\"\n",
    "print(animales)"
   ]
  },
  {
   "cell_type": "markdown",
   "id": "d1fd1ade",
   "metadata": {},
   "source": [
    "5) Analizar el siguiente programa y explicar con tus palabras qué es lo que realiza.\n",
    "\n",
    "numeros = [8,15,3,22,7]\n",
    "numeros.remove(max(numeros))\n",
    "print(numeros)"
   ]
  },
  {
   "cell_type": "markdown",
   "id": "886bab99",
   "metadata": {},
   "source": [
    "El programa al incluir la función remove(max) elimina de la lista \"numeros\" el máximo valor, en el caso del ejemplo elimina el número 22. Si se tratase de una lista de strings, elimaría al más extenso."
   ]
  },
  {
   "cell_type": "markdown",
   "id": "e70c67fb",
   "metadata": {},
   "source": [
    "6) Crear una lista con números del 10 al 30 (incluído), haciendo saltos de 5 en 5 y mostrar por pantalla los dos primeros."
   ]
  },
  {
   "cell_type": "code",
   "execution_count": null,
   "id": "a1731457",
   "metadata": {},
   "outputs": [],
   "source": [
    "lista = list(range(10,31,5))\n",
    "print(lista[0:2])"
   ]
  },
  {
   "cell_type": "markdown",
   "id": "c741c8f6",
   "metadata": {},
   "source": [
    "7) Reemplazar los dos valores centrales (índices 1 y 2) de la lista “autos” por dos nuevos valores cualesquiera.\n",
    "autos = [\"sedan\", \"polo\", \"suran\", \"gol\"]"
   ]
  },
  {
   "cell_type": "code",
   "execution_count": null,
   "id": "d5225473",
   "metadata": {},
   "outputs": [],
   "source": [
    "autos = [\"sedan\", \"polo\", \"suran\", \"gol\"]\n",
    "autos[1] = \"fox\"\n",
    "autos[2] = \"terrain\"\n",
    "print(autos)"
   ]
  },
  {
   "cell_type": "markdown",
   "id": "b064475e",
   "metadata": {},
   "source": [
    "8) Crear una lista vacía llamada \"dobles\" y agregar el doble de 5, 10 y 15 usando append directamente. Imprimir la lista resultante por pantalla.\n"
   ]
  },
  {
   "cell_type": "code",
   "execution_count": null,
   "id": "710059eb",
   "metadata": {},
   "outputs": [],
   "source": [
    "dobles = []\n",
    "dobles.append(5*2)\n",
    "dobles.append(10*2)\n",
    "dobles.append(15*2)\n",
    "print(dobles)\n",
    "    "
   ]
  },
  {
   "cell_type": "markdown",
   "id": "e5de200a",
   "metadata": {},
   "source": [
    "9) Dada la lista “compras”, cuyos elementos representan los productos comprados por diferentes clientes:\n",
    "compras = [[\"pan\", \"leche\"], [\"arroz\", \"fideos\", \"salsa\"],[\"agua\"]]\n",
    "\n",
    "a) Agregar \"jugo\" a la lista del tercer cliente usando append.\n",
    "b) Reemplazar \"fideos\" por \"tallarines\" en la lista del segundo cliente.\n",
    "c) Eliminar \"pan\" de la lista del primer cliente.\n",
    "d) Imprimir la lista resultante por pantalla"
   ]
  },
  {
   "cell_type": "code",
   "execution_count": null,
   "id": "33b16a63",
   "metadata": {},
   "outputs": [],
   "source": [
    "compras = [[\"pan\", \"leche\"], [\"arroz\", \"fideos\", \"salsa\"],[\"agua\"]]\n",
    "compras[2].append(\"jugo\")\n",
    "compras[1][1]=\"tallarines\"\n",
    "compras[0].remove(\"pan\")\n",
    "print(compras)"
   ]
  },
  {
   "cell_type": "markdown",
   "id": "4db9b703",
   "metadata": {},
   "source": [
    "10) Elaborar una lista anidada llamada “lista_anidada” que contenga los siguientes elementos:\n",
    "● Posición lista_anidada[0]: 15\n",
    "● Posición lista_anidada[1]: True\n",
    "● Posición lista_anidada[2][0]: 25.5\n",
    "● Posición lista_anidada[2][1]: 57.9\n",
    "● Posición lista_anidada[2][2]: 30.6\n",
    "● Posición lista_anidada[3]: False\n",
    "Imprimir la lista resultante por pantalla."
   ]
  },
  {
   "cell_type": "code",
   "execution_count": null,
   "id": "fd4d3952",
   "metadata": {},
   "outputs": [],
   "source": [
    "lista_anidada = [15,True,[25.5,57.9,30.6],False]\n",
    "print(lista_anidada[3])"
   ]
  }
 ],
 "metadata": {
  "kernelspec": {
   "display_name": "Python 3",
   "language": "python",
   "name": "python3"
  },
  "language_info": {
   "codemirror_mode": {
    "name": "ipython",
    "version": 3
   },
   "file_extension": ".py",
   "mimetype": "text/x-python",
   "name": "python",
   "nbconvert_exporter": "python",
   "pygments_lexer": "ipython3",
   "version": "3.12.10"
  }
 },
 "nbformat": 4,
 "nbformat_minor": 5
}
