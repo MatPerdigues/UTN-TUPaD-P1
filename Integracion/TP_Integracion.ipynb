{
 "cells": [
  {
   "cell_type": "code",
   "execution_count": 63,
   "id": "3b93af9b",
   "metadata": {},
   "outputs": [
    {
     "name": "stdout",
     "output_type": "stream",
     "text": [
      "Ingresá 1 para convertir números binarios a decimales\n",
      "Ingresá 2 para convertir números decimales a binarios\n",
      "El número binario 1001 es igual a 9 en el sistema decimal\n"
     ]
    }
   ],
   "source": [
    "print(\"Ingresá 1 para convertir números binarios a decimales\")\n",
    "print(\"Ingresá 2 para convertir números decimales a binarios\")\n",
    "opc=input()\n",
    "if(opc==\"1\"):\n",
    "    num=input(\"Ingresá el número binario que querés convertir: \")\n",
    "    potencia=len(num)-1\n",
    "    acum=0\n",
    "    binario=True\n",
    "    for i in num:\n",
    "        if(int(i)>1):\n",
    "            print(\"Por favor, ingresá un número binario válido.\")\n",
    "            binario=False\n",
    "            break\n",
    "        else:\n",
    "            conv=int(i)*(2**potencia)\n",
    "            acum+=conv\n",
    "            potencia-=1        \n",
    "    if binario: print(f\"El número binario {num} es igual a {acum} en el sistema decimal\")\n",
    " \n",
    "elif(opc==\"2\"):\n",
    "    num=int(input(\"Ingresá el número entero decimal que te gustaría convertir: \"))\n",
    "    resultado=\"\"\n",
    "    while num>=1:\n",
    "        resto=num%2        \n",
    "        resultado=resultado+str(resto)        \n",
    "        num=int(num/2)    \n",
    "    resInvertido = resultado[::-1]\n",
    "    print(f\"El número ingresado equivale a {resInvertido} en el sistema binario\")\n",
    "\n",
    "else:\n",
    "    print(\"Por favor, ingresá una opción válida\")"
   ]
  }
 ],
 "metadata": {
  "kernelspec": {
   "display_name": "Python 3",
   "language": "python",
   "name": "python3"
  },
  "language_info": {
   "codemirror_mode": {
    "name": "ipython",
    "version": 3
   },
   "file_extension": ".py",
   "mimetype": "text/x-python",
   "name": "python",
   "nbconvert_exporter": "python",
   "pygments_lexer": "ipython3",
   "version": "3.12.10"
  }
 },
 "nbformat": 4,
 "nbformat_minor": 5
}
