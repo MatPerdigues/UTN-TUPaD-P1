{
 "cells": [
  {
   "cell_type": "markdown",
   "metadata": {},
   "source": [
    "1) Escribir un programa que solicite la edad del usuario. Si el usuario es mayor de 18 años, deberá mostrar un mensaje en pantalla que diga “Es mayor de edad”.\n"
   ]
  },
  {
   "cell_type": "code",
   "execution_count": null,
   "metadata": {},
   "outputs": [],
   "source": [
    "edad = int(input(\"Ingrese su edad: \"))\n",
    "if edad >= 18:\n",
    "    print(\"Es mayor de edad\")"
   ]
  },
  {
   "cell_type": "markdown",
   "metadata": {},
   "source": [
    "2) Escribir un programa que solicite su nota al usuario. Si la nota es mayor o igual a 6, deberá mostrar por pantalla un mensaje que diga “Aprobado”; en caso contrario deberá mostrar el mensaje “Desaprobado”."
   ]
  },
  {
   "cell_type": "code",
   "execution_count": null,
   "metadata": {},
   "outputs": [],
   "source": [
    "nota = float(input(\"Ingrese la nota obtenida: \"))\n",
    "if nota >= 6:\n",
    "    print(\"Aprobado\")\n",
    "else:\n",
    "    print(\"Desaprobado\")\n"
   ]
  },
  {
   "cell_type": "markdown",
   "metadata": {},
   "source": [
    "3) Escribir un programa que permita ingresar solo números pares. Si el usuario ingresa un número par, imprimir por en pantalla el mensaje \"Ha ingresado un número par\"; en caso contrario, imprimir por pantalla \"Por favor, ingrese un número par\". Nota: investigar el uso del operador de módulo (%) en Python para evaluar si un número es par o impar."
   ]
  },
  {
   "cell_type": "code",
   "execution_count": null,
   "metadata": {},
   "outputs": [],
   "source": [
    "num = int(input(\"Ingrese un numero par: \"))\n",
    "if num%2==0:\n",
    "    print(\"Ha ingresado un número par\")\n",
    "else:\n",
    "    print(\"Por favor, ingrese un número par.\")"
   ]
  },
  {
   "cell_type": "markdown",
   "metadata": {},
   "source": [
    "4) Escribir un programa que solicite al usuario su edad e imprima por pantalla a cuál de las siguientes categorías pertenece: \n",
    "● Niño/a: menor de 12 años. \n",
    "● Adolescente: mayor o igual que 12 años y menor que 18 años.\n",
    "● Adulto/a joven: mayor o igual que 18 años y menor que 30 años. \n",
    "● Adulto/a: mayor o igual que 30 años."
   ]
  },
  {
   "cell_type": "code",
   "execution_count": 17,
   "metadata": {},
   "outputs": [
    {
     "name": "stdout",
     "output_type": "stream",
     "text": [
      "Adulto/a\n"
     ]
    }
   ],
   "source": [
    "edad = int(input(\"Ingrese su edad: \"))\n",
    "if edad<0:\n",
    "    print(\"La edad ingresada no es válida.\")\n",
    "elif edad >=0 and edad < 12:\n",
    "    print(\"Niño/a\")\n",
    "elif edad >= 12 and edad < 18:\n",
    "    print(\"Adolescente\")\n",
    "elif edad >= 18 and edad < 30:\n",
    "    print(\"Adulto/a joven\")\n",
    "else:\n",
    "    print(\"Adulto/a\")"
   ]
  },
  {
   "cell_type": "markdown",
   "metadata": {},
   "source": [
    "5) Escribir un programa que permita introducir contraseñas de entre 8 y 14 caracteres (incluyendo 8 y 14). Si el usuario ingresa una contraseña de longitud adecuada, imprimir por en pantalla el mensaje \"Ha ingresado una contraseña correcta\"; en caso contrario, imprimir por pantalla \"Por favor, ingrese una contraseña de entre 8 y 14 caracteres\". Nota: investigue el uso de la función len() en Python para evaluar la cantidad de elementos que tiene un iterable tal como una lista o un string."
   ]
  },
  {
   "cell_type": "code",
   "execution_count": 26,
   "metadata": {},
   "outputs": [
    {
     "name": "stdout",
     "output_type": "stream",
     "text": [
      "Ha ingresado una contraseña correcta\n"
     ]
    }
   ],
   "source": [
    "passw=input(\"Ingrese una contraseña de entre 8 y 14 caractereres: \")\n",
    "long=len(passw)\n",
    "if long >= 8 and long <= 14:\n",
    "    print(\"Ha ingresado una contraseña correcta\")\n",
    "else:\n",
    "    print(\"Por favor, ingrese una contraseña de entre 8 y 14 caracteres\")"
   ]
  },
  {
   "cell_type": "markdown",
   "metadata": {},
   "source": [
    "6) Escribir un programa que tome la lista numeros_aleatorios, calcule su moda, su mediana y su media y las compare para determinar si hay sesgo positivo, negativo o no hay sesgo. Imprimir el resultado por pantalla."
   ]
  },
  {
   "cell_type": "code",
   "execution_count": 27,
   "metadata": {},
   "outputs": [
    {
     "name": "stdout",
     "output_type": "stream",
     "text": [
      "Moda: 35\n",
      "Mediana: 47.5\n",
      "Media: 49.08\n"
     ]
    }
   ],
   "source": [
    "from statistics import mode, median, mean\n",
    "import random\n",
    "\n",
    "numeros_aleatorios = [random.randint(1, 100) for i in range(50)]\n",
    "\n",
    "moda=mode(numeros_aleatorios)\n",
    "mediana=median(numeros_aleatorios)\n",
    "media=mean(numeros_aleatorios)\n",
    "print(f\"Moda: {moda}\")\n",
    "print(f\"Mediana: {mediana}\")\n",
    "print(f\"Media: {media}\")\n",
    "\n"
   ]
  },
  {
   "cell_type": "markdown",
   "metadata": {},
   "source": [
    "7) Escribir un programa que solicite una frase o palabra al usuario. Si el string ingresado termina con vocal, añadir un signo de exclamación al final e imprimir el string resultante por pantalla; en caso contrario, dejar el string tal cual lo ingresó el usuario e imprimirlo por pantalla."
   ]
  },
  {
   "cell_type": "code",
   "execution_count": 32,
   "metadata": {},
   "outputs": [
    {
     "name": "stdout",
     "output_type": "stream",
     "text": [
      "Adios\n"
     ]
    }
   ],
   "source": [
    "frase = input(\"Por favor, ingrese una frase o palabra: \")\n",
    "caract=frase[-1]\n",
    "if caract==\"a\" or caract==\"e\" or caract==\"i\" or caract==\"o\" or caract==\"u\":\n",
    "    frase = frase + \"!\"\n",
    "print(frase)"
   ]
  },
  {
   "cell_type": "markdown",
   "metadata": {},
   "source": [
    "8) Escribir un programa que solicite al usuario que ingrese su nombre y el número 1, 2 o 3 dependiendo de la opción que desee:\n",
    "    1. Si quiere su nombre en mayúsculas. Por ejemplo: PEDRO.\n",
    "    2. Si quiere su nombre en minúsculas. Por ejemplo: pedro.\n",
    "    3. Si quiere su nombre con la primera letra mayúscula. Por ejemplo: Pedro.\n",
    "El programa debe transformar el nombre ingresado de acuerdo a la opción seleccionada por el usuario e imprimir el resultado por pantalla. Nota: investigue uso de las funciones upper(), lower() y title() de Python para convertir entre mayúsculas y minúsculas."
   ]
  },
  {
   "cell_type": "code",
   "execution_count": 36,
   "metadata": {},
   "outputs": [
    {
     "name": "stdout",
     "output_type": "stream",
     "text": [
      "Matias\n"
     ]
    }
   ],
   "source": [
    "nom = input(\"Ingrese su nombre: \")\n",
    "opc = int(input(\"Ingrese 1 si quiere su nombre en mayúscula, 2 si quiere su nombre en minúscula o 3 si quiere su nombre con la primera letra mayúscula: \"))\n",
    "if opc == 1:\n",
    "    nom = nom.upper()\n",
    "elif opc == 2:\n",
    "    nom = nom.lower()\n",
    "else:\n",
    "    nom = nom.title()\n",
    "print(nom)\n",
    " "
   ]
  },
  {
   "cell_type": "markdown",
   "metadata": {},
   "source": [
    "9) Escribir un programa que pida al usuario la magnitud de un terremoto, clasifique la magnitud en una de las siguientes categorías según la escala de Richter e imprima el resultado por pantalla:\n",
    "    ● Menor que 3: \"Muy leve\" (imperceptible).\n",
    "    ● Mayor o igual que 3 y menor que 4: \"Leve\" (ligeramente perceptible).\n",
    "    ● Mayor o igual que 4 y menor que 5: \"Moderado\" (sentido por personas, pero generalmente no causa daños).\n",
    "    ● Mayor o igual que 5 y menor que 6: \"Fuerte\" (puede causar daños en estructuras débiles).\n",
    "    ● Mayor o igual que 6 y menor que 7: \"Muy Fuerte\" (puede causar daños significativos).\n",
    "    ● Mayor o igual que 7: \"Extremo\" (puede causar graves daños a gran escala)."
   ]
  },
  {
   "cell_type": "code",
   "execution_count": null,
   "metadata": {},
   "outputs": [],
   "source": [
    "magnitud = float(input(\"Por fabor indique la magnitud del terremoto en la escala de Richter: \"))\n",
    "if magnitud >= 3 and magnitud < 4:\n",
    "    resultado = \"Leve\"\n",
    "elif magnitud >= 4 and magnitud < 5:\n",
    "    resultado = \"Moderado\"\n",
    "elif magnitud >= 5 and magnitud < 6:\n",
    "    resultado = \"Fuerte\"\n",
    "elif magnitud >= 6 and magnitud < 7:\n",
    "    resultado = \"Muy fuerte\"\n",
    "else: \n",
    "    resultado = \"Extremo\"\n",
    "print(resultado)\n",
    "\n",
    "\n"
   ]
  }
 ],
 "metadata": {
  "kernelspec": {
   "display_name": "Python 3",
   "language": "python",
   "name": "python3"
  },
  "language_info": {
   "codemirror_mode": {
    "name": "ipython",
    "version": 3
   },
   "file_extension": ".py",
   "mimetype": "text/x-python",
   "name": "python",
   "nbconvert_exporter": "python",
   "pygments_lexer": "ipython3",
   "version": "3.12.9"
  }
 },
 "nbformat": 4,
 "nbformat_minor": 2
}
