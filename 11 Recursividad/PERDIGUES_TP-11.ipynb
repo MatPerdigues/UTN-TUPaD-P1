{
 "cells": [
  {
   "cell_type": "markdown",
   "id": "172957c5",
   "metadata": {},
   "source": [
    "1) Crea una función recursiva que calcule el factorial de un número. Luego, utiliza esa función para calcular y mostrar en pantalla el factorial de todos los números enteros entre 1 y el número que indique el usuario"
   ]
  },
  {
   "cell_type": "code",
   "execution_count": 20,
   "id": "cade98ad",
   "metadata": {},
   "outputs": [
    {
     "data": {
      "text/plain": [
       "120"
      ]
     },
     "execution_count": 20,
     "metadata": {},
     "output_type": "execute_result"
    }
   ],
   "source": [
    "def factorial_recursivo (num):\n",
    "    \n",
    "    if num == 0:\n",
    "        return 1\n",
    "    else:        \n",
    "        return num * factorial_recursivo(num-1)\n",
    "\n",
    "\n",
    "factorial_recursivo(int(input(\"Ingrese un número para conocer su factorial: \")))"
   ]
  },
  {
   "cell_type": "markdown",
   "id": "e50cfdd1",
   "metadata": {},
   "source": [
    "2) Crea una función recursiva que calcule el valor de la serie de Fibonacci en la posición indicada. Posteriormente, muestra la serie completa hasta la posición que el usuario especifique."
   ]
  },
  {
   "cell_type": "code",
   "execution_count": null,
   "id": "cbe6e0b4",
   "metadata": {},
   "outputs": [],
   "source": [
    "serie = []\n",
    "\n",
    "def fibonacci (num):    \n",
    "    if num == 0:\n",
    "        return 0\n",
    "    elif num == 1:\n",
    "        return 1\n",
    "    else:        \n",
    "        return fibonacci(num-1) + fibonacci(num-2)\n",
    "    \n",
    "num = (int(input(\"Ingrese un número para conocer su serie Fibonacci: \")))\n",
    "\n",
    "fibonacci(num)\n",
    "\n",
    "for i in range(num):\n",
    "    serie.append(fibonacci(i))\n",
    "print(f\"Valor F(n): {fibonacci(num)}\")\n",
    "print(f\"Serie: {serie}\")\n"
   ]
  },
  {
   "cell_type": "markdown",
   "id": "4ca2ceaf",
   "metadata": {},
   "source": [
    "3) Crea una función recursiva que calcule la potencia de un número base elevado a un exponente, utilizando la fórmula 𝑛𝑚= 𝑛∗𝑛(𝑚−1). Prueba esta función en un algoritmo general."
   ]
  },
  {
   "cell_type": "code",
   "execution_count": null,
   "id": "56e4eab8",
   "metadata": {},
   "outputs": [],
   "source": [
    "def potencia_recursiva(base,potencia):\n",
    "    if potencia==0:\n",
    "        return 1\n",
    "    elif potencia == 1:\n",
    "        return base\n",
    "    else:\n",
    "        return base*potencia_recursiva(base,potencia-1)\n",
    "    \n",
    "base = int(input(\"Ingrese la base: \"))\n",
    "potencia = int(input(\"Ingrese la potencia: \"))\n",
    "\n",
    "potencia_recursiva(base,potencia)\n"
   ]
  },
  {
   "cell_type": "markdown",
   "id": "2dcbee2e",
   "metadata": {},
   "source": [
    "4) Crear una función recursiva en Python que reciba un número entero positivo en base decimal y devuelva su representación en binario como una cadena de texto."
   ]
  },
  {
   "cell_type": "code",
   "execution_count": 186,
   "id": "31ec98f5",
   "metadata": {},
   "outputs": [
    {
     "name": "stdout",
     "output_type": "stream",
     "text": [
      "1010\n"
     ]
    }
   ],
   "source": [
    "def conversionDecimales(num):\n",
    "    if num == 0:\n",
    "        return \"\"\n",
    "    else:\n",
    "        return conversionDecimales(num // 2) + str(num % 2) \n",
    "\n",
    "num = int(input(\"Ingrese un numero entero positivo para convertirlo en binario: \"))\n",
    "resultado = conversionDecimales(num)\n",
    "print(resultado)"
   ]
  },
  {
   "cell_type": "markdown",
   "id": "4988e712",
   "metadata": {},
   "source": [
    "5) Implementá una función recursiva llamada es_palindromo(palabra) que reciba una cadena de texto sin espacios ni tildes, y devuelva True si es un palíndromo o False si no lo es."
   ]
  },
  {
   "cell_type": "code",
   "execution_count": null,
   "id": "5886e75f",
   "metadata": {},
   "outputs": [],
   "source": [
    "\n",
    "def es_palindromo(palabra,index1=0,index2=-1):\n",
    "    if index1 < len(palabra):\n",
    "        if palabra[index1]==palabra[index2]:\n",
    "            es_palindromo(palabra,index1+1,index2-1)\n",
    "            return True            \n",
    "        else:\n",
    "            return False\n",
    "        \n",
    "\n",
    "es_palindromo(\"anilina\")\n",
    "\n"
   ]
  },
  {
   "cell_type": "markdown",
   "id": "8ae8d354",
   "metadata": {},
   "source": [
    "6) Escribí una función recursiva en Python llamada suma_digitos(n) que reciba un número entero positivo y devuelva la suma de todos sus dígitos."
   ]
  },
  {
   "cell_type": "code",
   "execution_count": null,
   "id": "c1db1def",
   "metadata": {},
   "outputs": [],
   "source": [
    "suma = 0\n",
    "def suma_digitos(num):\n",
    "    global suma\n",
    "    if num > 0:\n",
    "        suma = suma + num%10\n",
    "        return suma_digitos(num//10)\n",
    "\n",
    "suma_digitos(1234506789)\n",
    "print(suma)\n"
   ]
  },
  {
   "cell_type": "markdown",
   "id": "faf0f25e",
   "metadata": {},
   "source": [
    "7) Un niño está construyendo una pirámide con bloques. En el nivel más bajo coloca n bloques, en el siguiente nivel uno menos (n - 1), y así sucesivamente hasta llegar al último nivel con un solo bloque. Escribí una función recursiva contar_bloques(n) que reciba el número de bloques en el nivel más bajo y devuelva el total de bloques que necesita para construir toda la pirámide."
   ]
  },
  {
   "cell_type": "code",
   "execution_count": 453,
   "id": "69b06efd",
   "metadata": {},
   "outputs": [
    {
     "name": "stdout",
     "output_type": "stream",
     "text": [
      "10\n"
     ]
    }
   ],
   "source": [
    "total = 0\n",
    "def contar_bloques(n):\n",
    "    global total\n",
    "    if n > 0:\n",
    "        total += n\n",
    "        return contar_bloques(n-1)\n",
    "\n",
    "contar_bloques(4)\n",
    "print(total)"
   ]
  },
  {
   "cell_type": "markdown",
   "id": "800e2466",
   "metadata": {},
   "source": [
    "8) Escribí una función recursiva llamada contar_digito(numero, digito) que reciba un número entero positivo (numero) y un dígito (entre 0 y 9), y devuelva cuántas veces aparece ese dígito dentro del número."
   ]
  },
  {
   "cell_type": "code",
   "execution_count": null,
   "id": "8179f5fa",
   "metadata": {},
   "outputs": [],
   "source": [
    "contador = 0\n",
    "def contar_digito(numero,digito):\n",
    "    global contador\n",
    "    if numero > 0:\n",
    "        if numero%10 == digito:\n",
    "            contador += 1\n",
    "        return contar_digito(numero//10,digito)\n",
    "    \n",
    "contar_digito(5555,5)\n",
    "print(contador)\n"
   ]
  }
 ],
 "metadata": {
  "kernelspec": {
   "display_name": "Python 3",
   "language": "python",
   "name": "python3"
  },
  "language_info": {
   "codemirror_mode": {
    "name": "ipython",
    "version": 3
   },
   "file_extension": ".py",
   "mimetype": "text/x-python",
   "name": "python",
   "nbconvert_exporter": "python",
   "pygments_lexer": "ipython3",
   "version": "3.12.10"
  }
 },
 "nbformat": 4,
 "nbformat_minor": 5
}
