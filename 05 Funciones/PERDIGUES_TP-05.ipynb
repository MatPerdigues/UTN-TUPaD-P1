{
 "cells": [
  {
   "cell_type": "markdown",
   "id": "2b4d9a49",
   "metadata": {},
   "source": [
    "1. Crear una función llamada imprimir_hola_mundo que imprima por\n",
    "pantalla el mensaje: “Hola Mundo!”. Llamar a esta función desde el\n",
    "programa principal."
   ]
  },
  {
   "cell_type": "code",
   "execution_count": null,
   "id": "e41926c2",
   "metadata": {},
   "outputs": [],
   "source": [
    "def saludo():\n",
    "    print('Hola Mundo!')\n",
    "\n",
    "saludo()"
   ]
  },
  {
   "cell_type": "markdown",
   "id": "1e19dda1",
   "metadata": {},
   "source": [
    "2. Crear una función llamada saludar_usuario(nombre) que reciba\n",
    "como parámetro un nombre y devuelva un saludo personalizado.\n",
    "Por ejemplo, si se llama con saludar_usuario(\"Marcos\"), deberá devolver:\n",
    "“Hola Marcos!”. Llamar a esta función desde el programa\n",
    "principal solicitando el nombre al usuario."
   ]
  },
  {
   "cell_type": "code",
   "execution_count": null,
   "id": "7976f46a",
   "metadata": {},
   "outputs": [],
   "source": [
    "def saludar_usuario(nombre):    \n",
    "    print(f\"Hola {nombre}!!\")\n",
    "\n",
    "saludar_usuario(input(\"Ingrese su nombre: \"))"
   ]
  },
  {
   "cell_type": "markdown",
   "id": "4080f725",
   "metadata": {},
   "source": [
    "3. Crear una función llamada informacion_personal(nombre, apellido,\n",
    "edad, residencia) que reciba cuatro parámetros e imprima: “Soy\n",
    "[nombre] [apellido], tengo [edad] años y vivo en [residencia]”. Pedir\n",
    "los datos al usuario y llamar a esta función con los valores ingresados."
   ]
  },
  {
   "cell_type": "code",
   "execution_count": null,
   "id": "653be037",
   "metadata": {},
   "outputs": [],
   "source": [
    "def informacion_personal(nombre, apellido, edad, residencia):\n",
    "    print(f\"Soy {nombre} {apellido}, tengo {edad} años y vivo en {residencia}\")\n",
    "\n",
    "informacion_personal(input(\"Ingrese su nombre: \"), input(\"Ingrese su apellido: \"), input(\"Indique su edad: \"), input(\"Lugar de residencia: \"))"
   ]
  },
  {
   "cell_type": "markdown",
   "id": "f5a988bc",
   "metadata": {},
   "source": [
    "4. Crear dos funciones: calcular_area_circulo(radio) que reciba el radio\n",
    "como parámetro y devuelva el área del círculo. calcular_perimetro_\n",
    "circulo(radio) que reciba el radio como parámetro y devuelva\n",
    "el perímetro del círculo. Solicitar el radio al usuario y llamar ambas\n",
    "funciones para mostrar los resultados"
   ]
  },
  {
   "cell_type": "code",
   "execution_count": null,
   "id": "0b24fd1f",
   "metadata": {},
   "outputs": [],
   "source": [
    "import math\n",
    "pi = math.pi\n",
    "\n",
    "def calcular_area_circulo(radio):\n",
    "    area = pi*(radio**2)\n",
    "    print(f\"Area: {area}\")\n",
    "\n",
    "def calcular_perimetro_circulo(radio):\n",
    "    perimetro = 2*radio*pi\n",
    "    print(f\"Perímetro: {perimetro}\")\n",
    "\n",
    "radio = float(input(\"Ingrese el radio del círculo: \"))\n",
    "\n",
    "calcular_area_circulo(radio)\n",
    "calcular_perimetro_circulo(radio)\n",
    "\n"
   ]
  },
  {
   "cell_type": "markdown",
   "id": "dee0e3bf",
   "metadata": {},
   "source": [
    "5. Crear una función llamada segundos_a_horas(segundos) que reciba\n",
    "una cantidad de segundos como parámetro y devuelva la cantidad\n",
    "de horas correspondientes. Solicitar al usuario los segundos y mostrar\n",
    "el resultado usando esta función."
   ]
  },
  {
   "cell_type": "code",
   "execution_count": null,
   "id": "eed408a0",
   "metadata": {},
   "outputs": [],
   "source": [
    "def segundos_a_horas(segundos):\n",
    "    horas=(segundos/60)/60\n",
    "    print(f\"{segundos} segundos equivalen a {horas} horas.\")\n",
    "\n",
    "segundos_a_horas(int(input(\"Ingrese la cantidad de segundos que desea convertir a horas: \")))"
   ]
  },
  {
   "cell_type": "markdown",
   "id": "76b7c5ba",
   "metadata": {},
   "source": [
    "6. Crear una función llamada tabla_multiplicar(numero) que reciba un\n",
    "número como parámetro y imprima la tabla de multiplicar de ese\n",
    "número del 1 al 10. Pedir al usuario el número y llamar a la función."
   ]
  },
  {
   "cell_type": "code",
   "execution_count": null,
   "id": "a46c3813",
   "metadata": {},
   "outputs": [],
   "source": [
    "def tabla_multiplicar(numero):\n",
    "    for i in range(1,11):\n",
    "        res=i*numero\n",
    "        print(f\"{i} x {numero} = {res}\")\n",
    "\n",
    "tabla_multiplicar(int(input(\"Ingrese un número para ver su tabla de multiplicar: \")))"
   ]
  },
  {
   "cell_type": "markdown",
   "id": "206485d1",
   "metadata": {},
   "source": [
    "7. Crear una función llamada operaciones_basicas(a, b) que reciba\n",
    "dos números como parámetros y devuelva una tupla con el resultado\n",
    "de sumarlos, restarlos, multiplicarlos y dividirlos. Mostrar los resultados\n",
    "de forma clara."
   ]
  },
  {
   "cell_type": "code",
   "execution_count": null,
   "id": "0a370936",
   "metadata": {},
   "outputs": [],
   "source": [
    "def operaciones_basicas(a, b):\n",
    "    if a<b:\n",
    "        num1=b\n",
    "        num2=a\n",
    "    else:\n",
    "        num1=a\n",
    "        num2=b \n",
    "\n",
    "    suma =  str(num1+num2)\n",
    "    resta = str(num1-num2)\n",
    "    multiplicacion = str(num1*num2)\n",
    "    division = str(num1/num2)\n",
    "\n",
    "    res = (\"suma: \"+suma, \"resta: \"+resta, \"multiplicación: \"+multiplicacion, \"división: \"+division)\n",
    "\n",
    "    print(res)\n",
    "\n",
    "operaciones_basicas(int(input(\"Ingrese el primer número: \")), int(input(\"Ingrese el segundo número: \")))\n"
   ]
  },
  {
   "cell_type": "markdown",
   "id": "f8971587",
   "metadata": {},
   "source": [
    "8. Crear una función llamada calcular_imc(peso, altura) que reciba el\n",
    "peso en kilogramos y la altura en metros, y devuelva el índice de\n",
    "masa corporal (IMC). Solicitar al usuario los datos y llamar a la función\n",
    "para mostrar el resultado con dos decimales."
   ]
  },
  {
   "cell_type": "code",
   "execution_count": null,
   "id": "66e10a9b",
   "metadata": {},
   "outputs": [],
   "source": [
    "def calcular_imc(peso, altura):\n",
    "    imc = peso/(altura**2)\n",
    "    print(f\"Tu imc es {imc}\")\n",
    "\n",
    "calcular_imc(float(input(\"Ingresá tu peso en kgs: \")), float(input(\"Indicá tu altura en mts: \")))\n"
   ]
  },
  {
   "cell_type": "markdown",
   "id": "4a35edfb",
   "metadata": {},
   "source": [
    "9. Crear una función llamada celsius_a_fahrenheit(celsius) que reciba\n",
    "una temperatura en grados Celsius y devuelva su equivalente en\n",
    "Fahrenheit. Pedir al usuario la temperatura en Celsius y mostrar el\n",
    "resultado usando la función."
   ]
  },
  {
   "cell_type": "code",
   "execution_count": null,
   "id": "aba26356",
   "metadata": {},
   "outputs": [],
   "source": [
    "def celsius_a_fahrenheit(celsius):\n",
    "    far=(celsius*(9/5))+32\n",
    "    print(f\"Fahrenheit: {far}\")\n",
    "\n",
    "celsius_a_fahrenheit(float(input(\"Ingrese grados Celsius para convertirlos a Fahrenheit: \")))"
   ]
  },
  {
   "cell_type": "markdown",
   "id": "43b1e970",
   "metadata": {},
   "source": [
    "10. Crear una función llamada calcular_promedio(a, b, c) que reciba\n",
    "tres números como parámetros y devuelva el promedio de ellos.\n",
    "Solicitar los números al usuario y mostrar el resultado usando esta\n",
    "función."
   ]
  },
  {
   "cell_type": "code",
   "execution_count": null,
   "id": "5f1a8a17",
   "metadata": {},
   "outputs": [],
   "source": [
    "def calcular_promedio(a, b, c):\n",
    "    suma=a+b+c\n",
    "    promedio=suma/3\n",
    "    print(f\"El promedio de los numeros ingresados es {promedio}\")\n",
    "\n",
    "calcular_promedio(int(input(\"Ingrese el primer número\")), int(input(\"Ingrese el segundo número\")), int(input(\"Ingrese el tercer número\")))"
   ]
  }
 ],
 "metadata": {
  "kernelspec": {
   "display_name": "Python 3",
   "language": "python",
   "name": "python3"
  },
  "language_info": {
   "codemirror_mode": {
    "name": "ipython",
    "version": 3
   },
   "file_extension": ".py",
   "mimetype": "text/x-python",
   "name": "python",
   "nbconvert_exporter": "python",
   "pygments_lexer": "ipython3",
   "version": "3.12.10"
  }
 },
 "nbformat": 4,
 "nbformat_minor": 5
}
